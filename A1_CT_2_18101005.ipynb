{
  "nbformat": 4,
  "nbformat_minor": 0,
  "metadata": {
    "colab": {
      "name": "A1_CT_2_18101005.ipynb",
      "provenance": [],
      "authorship_tag": "ABX9TyOC1t5AZq6xXa/h+Jb0L5Dr",
      "include_colab_link": true
    },
    "kernelspec": {
      "name": "python3",
      "display_name": "Python 3"
    }
  },
  "cells": [
    {
      "cell_type": "markdown",
      "metadata": {
        "id": "view-in-github",
        "colab_type": "text"
      },
      "source": [
        "<a href=\"https://colab.research.google.com/github/NuzhatProgga/A1_CT_2_18101005/blob/master/A1_CT_2_18101005.ipynb\" target=\"_parent\"><img src=\"https://colab.research.google.com/assets/colab-badge.svg\" alt=\"Open In Colab\"/></a>"
      ]
    },
    {
      "cell_type": "markdown",
      "metadata": {
        "id": "5uBCDjRxkjny",
        "colab_type": "text"
      },
      "source": [
        "**Write a program to check Leap year.**"
      ]
    },
    {
      "cell_type": "code",
      "metadata": {
        "id": "r8w3hRIQkyWa",
        "colab_type": "code",
        "colab": {
          "base_uri": "https://localhost:8080/",
          "height": 50
        },
        "outputId": "db5b7659-b8eb-4d2b-d060-34fd338f9c45"
      },
      "source": [
        "year = int(input(\"Enter a Year: \"))\n",
        "\n",
        "if year%400 == 0:\n",
        "  print(year, \"is leap year!\")\n",
        "elif year%100 == 0:\n",
        "  print(year, \"is not leap year!\")\n",
        "elif year%4 == 0:\n",
        "  print(year,\"is leap year!\")\n",
        "else:\n",
        "  print(year,\"is not leap year!\")"
      ],
      "execution_count": null,
      "outputs": [
        {
          "output_type": "stream",
          "text": [
            "Enter a Year: 1996\n",
            "1996 is leap year!\n"
          ],
          "name": "stdout"
        }
      ]
    },
    {
      "cell_type": "markdown",
      "metadata": {
        "id": "qHkyQEuomTAA",
        "colab_type": "text"
      },
      "source": [
        "**Given a string of length 12, divide the string into 4 parts of length 3. Then swap the first part with the last part. Output the final string.**"
      ]
    },
    {
      "cell_type": "code",
      "metadata": {
        "id": "rYBy6TnPmYaE",
        "colab_type": "code",
        "colab": {
          "base_uri": "https://localhost:8080/",
          "height": 50
        },
        "outputId": "1580e452-b538-44c6-c0e1-05ca87064309"
      },
      "source": [
        "given_str = input()\n",
        "\n",
        "str_1 = given_str[0:3]\n",
        "str_2 = given_str[3:6]\n",
        "str_3 = given_str[6:9]\n",
        "str_4 = given_str[9:12]\n",
        "\n",
        "temp = str_1\n",
        "str_1 = str_4\n",
        "str_4 = temp\n",
        "\n",
        "final_str = str_1 + str_2 + str_3 + str_4\n",
        "\n",
        "print(final_str)"
      ],
      "execution_count": null,
      "outputs": [
        {
          "output_type": "stream",
          "text": [
            "ABCDEFGHIJKL\n",
            "JKLDEFGHIABC\n"
          ],
          "name": "stdout"
        }
      ]
    },
    {
      "cell_type": "code",
      "metadata": {
        "id": "7PgT86mCku22",
        "colab_type": "code",
        "colab": {}
      },
      "source": [
        ""
      ],
      "execution_count": null,
      "outputs": []
    },
    {
      "cell_type": "markdown",
      "metadata": {
        "id": "pbisCs7joH2B",
        "colab_type": "text"
      },
      "source": [
        "**Suppose you are going to start a Django Project with a group of 5 members. Now, you need to store the information (Name, ID, CGPA, Email_Address, and Contact_no) about the group members in some variables. Choose the appropriate data type where one can search a member effectively.**"
      ]
    },
    {
      "cell_type": "code",
      "metadata": {
        "id": "PGELyoqToQ4v",
        "colab_type": "code",
        "colab": {}
      },
      "source": [
        "grp_dic = {\n",
        "    18101005 : {\n",
        "        \"Name\" : \"Nuzhat\",\n",
        "        \"ID\" : 18101005,\n",
        "        \"CGPA\" : 3.81,\n",
        "        \"Email_Address\" : \"18101005@uap-bd.edu\",\n",
        "        \"Contact_no\" : \"01700000000\"\n",
        "    },\n",
        "    18101008 : {\n",
        "        \"Name\" : \"Nafees\",\n",
        "        \"ID\" : 18101008,\n",
        "        \"CGPA\" : 3.85,\n",
        "        \"Email_Address\" : \"18101008@uap-bd.edu\",\n",
        "        \"Contact_no\" : \"01700000001\"\n",
        "    },\n",
        "    18101020 : {\n",
        "        \"Name\" : \"Joy\",\n",
        "        \"ID\" : 181010020,\n",
        "        \"CGPA\" : 3.9,\n",
        "        \"Email_Address\" : \"18101020@uap-bd.edu\",\n",
        "        \"Contact_no\" : \"01700000002\"\n",
        "    },\n",
        "    18101027 : {\n",
        "        \"Name\" : \"Mredul\",\n",
        "        \"ID\" : 181010027,\n",
        "        \"CGPA\" : 3.83,\n",
        "        \"Email_Address\" : \"18101027@uap-bd.edu\",\n",
        "        \"Contact_no\" : \"01700000003\"\n",
        "    },\n",
        "    18101002 : {\n",
        "        \"Name\" : \"Jack\",\n",
        "        \"ID\" : 18101002,\n",
        "        \"CGPA\" : 3.88,\n",
        "        \"Email_Address\" : \"18101002@uap-bd.edu\",\n",
        "        \"Contact_no\" : \"01700000004\"\n",
        "    }\n",
        "}\n",
        "\n"
      ],
      "execution_count": null,
      "outputs": []
    },
    {
      "cell_type": "code",
      "metadata": {
        "id": "KY74cDjLqr_w",
        "colab_type": "code",
        "colab": {
          "base_uri": "https://localhost:8080/",
          "height": 54
        },
        "outputId": "9dea42e8-e987-4240-d4a5-62c0c52b50d5"
      },
      "source": [
        "print(grp_dic[18101005])"
      ],
      "execution_count": null,
      "outputs": [
        {
          "output_type": "stream",
          "text": [
            "{'Name': 'Nuzhat', 'ID': 18101005, 'CGPA': 3.81, 'Email_Address': '18101005@uap-bd.edu', 'Contact_no': '01700000000'}\n"
          ],
          "name": "stdout"
        }
      ]
    },
    {
      "cell_type": "markdown",
      "metadata": {
        "id": "WPeFrxPvq2sP",
        "colab_type": "text"
      },
      "source": [
        "**Choose variables of appropriate data type to store the information of the following table in a way that if someone inputs the EmployeeID, it will show all the information of that Employee.**"
      ]
    },
    {
      "cell_type": "code",
      "metadata": {
        "id": "GFpeF7pnrJIe",
        "colab_type": "code",
        "colab": {
          "base_uri": "https://localhost:8080/",
          "height": 50
        },
        "outputId": "669a3f30-6695-4cf5-d7d9-ae8012e05523"
      },
      "source": [
        "all_emp = {\n",
        "    1001 : {\n",
        "        \"Ename\" : \"John\",\n",
        "        \"DeptID\" : 2,\n",
        "        \"Salary\" : 4000, \n",
        "        \"Dname\" : \"IT\",\n",
        "        \"Dlocation\" : \"New Delhi\"\n",
        "    },\n",
        "    1002 : {\n",
        "        \"Ename\" : \"Anna\",\n",
        "        \"DeptID\" : 1,\n",
        "        \"Salary\" : 3500, \n",
        "        \"Dname\" : \"HR\",\n",
        "        \"Dlocation\" : \"Mumbai\"\n",
        "    },\n",
        "    1003 : {\n",
        "        \"Ename\" : \"James\",\n",
        "        \"DeptID\" : 1,\n",
        "        \"Salary\" : 2500, \n",
        "        \"Dname\" : \"HR\",\n",
        "        \"Dlocation\" : \"Mumbai\"\n",
        "    },\n",
        "    1004 : {\n",
        "        \"Ename\" : \"David\",\n",
        "        \"DeptID\" : 2,\n",
        "        \"Salary\" : 5000, \n",
        "        \"Dname\" : \"IT\",\n",
        "        \"Dlocation\" : \"New Delhi\"\n",
        "    }\n",
        "\n",
        "}\n",
        "\n",
        "find_emp = int(input())\n",
        "\n",
        "print(all_emp[find_emp])"
      ],
      "execution_count": null,
      "outputs": [
        {
          "output_type": "stream",
          "text": [
            "1002\n",
            "{'Ename': 'Anna', 'DeptID': 1, 'Salary': 3500, 'Dname': 'HR', 'Dlocation': 'Mumbai'}\n"
          ],
          "name": "stdout"
        }
      ]
    },
    {
      "cell_type": "code",
      "metadata": {
        "id": "H-WS8t7Lr6J5",
        "colab_type": "code",
        "colab": {}
      },
      "source": [
        ""
      ],
      "execution_count": null,
      "outputs": []
    }
  ]
}